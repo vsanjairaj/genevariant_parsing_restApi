{
 "cells": [
  {
   "cell_type": "code",
   "execution_count": 103,
   "metadata": {},
   "outputs": [],
   "source": [
    "import requests \n",
    "import json\n",
    "import pandas as pd\n",
    "from pprint import pprint\n",
    "import sys"
   ]
  },
  {
   "cell_type": "code",
   "execution_count": 104,
   "metadata": {},
   "outputs": [],
   "source": [
    "def merge_url(var):\n",
    "    url = 'http://rest.ensembl.org/vep/human/hgvs/'\n",
    "    new_url = url + var\n",
    "    return new_url"
   ]
  },
  {
   "cell_type": "code",
   "execution_count": 142,
   "metadata": {},
   "outputs": [],
   "source": [
    "def req_new_url(new_url):\n",
    "    object1 = requests.get(new_url,headers={ \"Content-Type\" : \"application/json\"})\n",
    "    if not object1.ok:\n",
    "        #object1.raise_for_status() \n",
    "        return -2\n",
    "    try: \n",
    "        object2 = object1.json()\n",
    "    except json.JSONDecodeError:\n",
    "        return -1\n",
    "    return object2"
   ]
  },
  {
   "cell_type": "code",
   "execution_count": 106,
   "metadata": {},
   "outputs": [],
   "source": [
    "def txt_to_list(filepath):\n",
    "    with open(filepath) as f:\n",
    "        variants = []\n",
    "        for line in f:\n",
    "            stripped_line = line.strip()\n",
    "            variants.append(stripped_line)\n",
    "    return variants \n",
    "        "
   ]
  },
  {
   "cell_type": "code",
   "execution_count": 145,
   "metadata": {},
   "outputs": [],
   "source": [
    "def get_tsv(file_name):\n",
    "    list_of_variants = txt_to_list(file_name)\n",
    "    error_api = [] #To store variants which return error #Print the error API variants at the end\n",
    "    rows = []\n",
    "    #df = pd.DataFrame() #New DataFrame\n",
    "    for var in list_of_variants:  #Loop running through individual variants\n",
    "        url = merge_url(var) #Creates API url for each variants\n",
    "        obj = req_new_url(url)  #Object which stores JSON object for individual Campaign IDs\n",
    "        if type(obj) == int :\n",
    "            pass\n",
    "            error_api.append(var)           \n",
    "        else :\n",
    "            for key in obj:\n",
    "                temp = []\n",
    "                temp_conseq = []\n",
    "                temp.append(var)\n",
    "                temp.append(key['assembly_name'])\n",
    "                temp.append(key['seq_region_name'])\n",
    "                temp.append(key['start'])\n",
    "                temp.append(key['end'])\n",
    "                temp.append(key['most_severe_consequence'])\n",
    "                temp.append(key['strand'])\n",
    "                for key_2 in key['transcript_consequences']:                    \n",
    "                    temp_conseq.append(key_2['gene_symbol'])\n",
    "                temp_conseq_set = set(temp_conseq)\n",
    "                temp_conseq = list(temp_conseq_set)\n",
    "                temp.append(temp_conseq)\n",
    "                rows.append(temp)\n",
    "    df = pd.DataFrame(rows,columns=['input_variant','assembly_name','seq_region_name','start','end','most_severe_consequence','strand','transcript_consequences'])\n",
    "    print(df)        \n",
    "    \n",
    "    \n",
    "    "
   ]
  },
  {
   "cell_type": "code",
   "execution_count": 147,
   "metadata": {},
   "outputs": [
    {
     "name": "stdout",
     "output_type": "stream",
     "text": [
      "                 input_variant assembly_name seq_region_name      start  \\\n",
      "0  NC_000001.11:g.215674515G>A        GRCh38               1  215674515   \n",
      "1   NC_000001.11:g.40819893G>A        GRCh38               1   40819893   \n",
      "2   NC_000002.12:g.39006443C>T        GRCh38               2   39006443   \n",
      "3  NC_000006.12:g.152387156G>A        GRCh38               6  152387156   \n",
      "4  NC_000001.11:g.215674515G>A        GRCh38               1  215674515   \n",
      "\n",
      "         end most_severe_consequence  strand transcript_consequences  \n",
      "0  215674515        missense_variant       1                 [USH2A]  \n",
      "1   40819893        missense_variant       1                 [KCNQ4]  \n",
      "2   39006443      synonymous_variant       1                  [SOS1]  \n",
      "3  152387156      synonymous_variant       1                 [SYNE1]  \n",
      "4  215674515        missense_variant       1                 [USH2A]  \n",
      "None\n"
     ]
    }
   ],
   "source": [
    "pprint(get_tsv('variants.txt'))"
   ]
  }
 ],
 "metadata": {
  "kernelspec": {
   "display_name": "Python 3",
   "language": "python",
   "name": "python3"
  },
  "language_info": {
   "codemirror_mode": {
    "name": "ipython",
    "version": 3
   },
   "file_extension": ".py",
   "mimetype": "text/x-python",
   "name": "python",
   "nbconvert_exporter": "python",
   "pygments_lexer": "ipython3",
   "version": "3.8.3"
  }
 },
 "nbformat": 4,
 "nbformat_minor": 4
}
